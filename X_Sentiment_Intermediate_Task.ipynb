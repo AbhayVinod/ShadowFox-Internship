{
  "nbformat": 4,
  "nbformat_minor": 0,
  "metadata": {
    "colab": {
      "provenance": []
    },
    "kernelspec": {
      "name": "python3",
      "display_name": "Python 3"
    },
    "language_info": {
      "name": "python"
    }
  },
  "cells": [
    {
      "cell_type": "markdown",
      "source": [
        "Data Collection and Preprocessing"
      ],
      "metadata": {
        "id": "8nL_nYk_yIDf"
      }
    },
    {
      "cell_type": "code",
      "execution_count": null,
      "metadata": {
        "id": "nzDBl7PcvXik"
      },
      "outputs": [],
      "source": [
        "import pandas as pd\n",
        "import re\n",
        "\n",
        "# Load the dataset\n",
        "df = pd.read_csv('X data.csv')\n",
        "\n",
        "# Function to clean the text\n",
        "def clean_tweet(tweet):\n",
        "    # Convert tweet to string if it's not already\n",
        "    if not isinstance(tweet, str):\n",
        "        tweet = str(tweet)\n",
        "    tweet = re.sub(r'http\\S+', '', tweet)  # Remove URLs\n",
        "    tweet = re.sub(r'@\\w+', '', tweet)     # Remove mentions\n",
        "    tweet = re.sub(r'#\\w+', '', tweet)     # Remove hashtags\n",
        "    tweet = re.sub(r'\\W', ' ', tweet)      # Remove special characters\n",
        "    tweet = tweet.lower()                  # Convert to lowercase\n",
        "    return tweet\n",
        "\n",
        "# Apply the cleaning function to the clean_text column\n",
        "df['clean_text'] = df['clean_text'].apply(clean_tweet)"
      ]
    },
    {
      "cell_type": "markdown",
      "source": [
        "Sentiment Analysis"
      ],
      "metadata": {
        "id": "KIS2Vhy0yOr2"
      }
    },
    {
      "cell_type": "code",
      "source": [
        "from textblob import TextBlob\n",
        "\n",
        "def get_sentiment(tweet):\n",
        "    analysis = TextBlob(tweet)\n",
        "    if analysis.sentiment.polarity > 0:\n",
        "        return 'positive'\n",
        "    elif analysis.sentiment.polarity == 0:\n",
        "        return 'neutral'\n",
        "    else:\n",
        "        return 'negative'\n",
        "\n",
        "sentiments = [get_sentiment(tweet) for tweet in df['clean_text']]\n"
      ],
      "metadata": {
        "id": "T66-a78QxSVK"
      },
      "execution_count": null,
      "outputs": []
    },
    {
      "cell_type": "markdown",
      "source": [
        "Statistical Analysis and Visualization"
      ],
      "metadata": {
        "id": "8cRfq9XsyVVA"
      }
    },
    {
      "cell_type": "code",
      "source": [
        "import matplotlib.pyplot as plt\n",
        "\n",
        "# Sentiment distribution\n",
        "sentiment_counts = df['category'].value_counts()\n",
        "\n",
        "# Map the sentiment labels to their names\n",
        "sentiment_counts.index = sentiment_counts.index.map({-1: 'Negative', 0: 'Neutral', 1: 'Positive'})\n",
        "\n",
        "# Plot sentiment distribution\n",
        "sentiment_counts.plot(kind='bar', color=['red', 'blue', 'green'])\n",
        "plt.title('Sentiment Distribution')\n",
        "plt.xlabel('Sentiment')\n",
        "plt.ylabel('Count')\n",
        "plt.show()\n"
      ],
      "metadata": {
        "colab": {
          "base_uri": "https://localhost:8080/",
          "height": 520
        },
        "id": "mLyUD9noyYID",
        "outputId": "32832844-6e25-4439-9f67-d210f3870000"
      },
      "execution_count": null,
      "outputs": [
        {
          "output_type": "display_data",
          "data": {
            "text/plain": [
              "<Figure size 640x480 with 1 Axes>"
            ],
            "image/png": "[encoded data removed]"
          },
          "metadata": {}
        }
      ]
    },
    {
      "cell_type": "code",
      "source": [
        "pip install vaderSentiment"
      ],
      "metadata": {
        "colab": {
          "base_uri": "https://localhost:8080/"
        },
        "id": "4-skbCWCLiLs",
        "outputId": "4583b0fe-7cc1-4031-de54-844970e8659f"
      },
      "execution_count": 3,
      "outputs": [
        {
          "output_type": "stream",
          "name": "stdout",
          "text": [
            "Collecting vaderSentiment\n",
            "  Downloading vaderSentiment-3.3.2-py2.py3-none-any.whl.metadata (572 bytes)\n",
            "Requirement already satisfied: requests in /usr/local/lib/python3.10/dist-packages (from vaderSentiment) (2.32.3)\n",
            "Requirement already satisfied: charset-normalizer<4,>=2 in /usr/local/lib/python3.10/dist-packages (from requests->vaderSentiment) (3.4.0)\n",
            "Requirement already satisfied: idna<4,>=2.5 in /usr/local/lib/python3.10/dist-packages (from requests->vaderSentiment) (3.10)\n",
            "Requirement already satisfied: urllib3<3,>=1.21.1 in /usr/local/lib/python3.10/dist-packages (from requests->vaderSentiment) (2.2.3)\n",
            "Requirement already satisfied: certifi>=2017.4.17 in /usr/local/lib/python3.10/dist-packages (from requests->vaderSentiment) (2024.8.30)\n",
            "Downloading vaderSentiment-3.3.2-py2.py3-none-any.whl (125 kB)\n",
            "\u001b[?25l   \u001b[90m━━━━━━━━━━━━━━━━━━━━━━━━━━━━━━━━━━━━━━━━\u001b[0m \u001b[32m0.0/126.0 kB\u001b[0m \u001b[31m?\u001b[0m eta \u001b[36m-:--:--\u001b[0m\r\u001b[2K   \u001b[91m━━━━━━━━━━━━━━━━━━━━━━━━━━━━━━━━━━━━━━━\u001b[0m\u001b[90m╺\u001b[0m \u001b[32m122.9/126.0 kB\u001b[0m \u001b[31m3.7 MB/s\u001b[0m eta \u001b[36m0:00:01\u001b[0m\r\u001b[2K   \u001b[90m━━━━━━━━━━━━━━━━━━━━━━━━━━━━━━━━━━━━━━━━\u001b[0m \u001b[32m126.0/126.0 kB\u001b[0m \u001b[31m2.7 MB/s\u001b[0m eta \u001b[36m0:00:00\u001b[0m\n",
            "\u001b[?25hInstalling collected packages: vaderSentiment\n",
            "Successfully installed vaderSentiment-3.3.2\n"
          ]
        }
      ]
    },
    {
      "cell_type": "code",
      "source": [
        "import pandas as pd\n",
        "from vaderSentiment.vaderSentiment import SentimentIntensityAnalyzer\n",
        "\n",
        "# Load the dataset\n",
        "data = pd.read_csv('X data.csv')\n",
        "\n",
        "# Initialize VADER Sentiment Analyzer\n",
        "analyzer = SentimentIntensityAnalyzer()\n",
        "\n",
        "# Function to classify sentiment based on VADER scores\n",
        "def classify_sentiment(text):\n",
        "    # Convert text to string if it's not already\n",
        "    text = str(text)  # This line is added to handle float values\n",
        "    score = analyzer.polarity_scores(text)['compound']\n",
        "    if score >= 0.05:\n",
        "        return 'Positive'\n",
        "    elif score <= -0.05:\n",
        "        return 'Negative'\n",
        "    else:\n",
        "        return 'Neutral'\n",
        "\n",
        "# Apply sentiment classification to each post\n",
        "data['Sentiment'] = data['clean_text'].apply(classify_sentiment)\n",
        "\n",
        "# Count positive and negative posts\n",
        "positive_count = data[data['Sentiment'] == 'Positive'].shape[0]\n",
        "negative_count = data[data['Sentiment'] == 'Negative'].shape[0]\n",
        "\n",
        "# Print the results\n",
        "print(f\"Number of Positive posts: {positive_count}\")\n",
        "print(f\"Number of Negative posts: {negative_count}\")\n",
        "\n",
        "# Conclusion: Overall sentiment trend\n",
        "if positive_count > negative_count:\n",
        "    print(\"Overall sentiment trend is Positive.\")\n",
        "elif negative_count > positive_count:\n",
        "    print(\"Overall sentiment trend is Negative.\")\n",
        "else:\n",
        "    print(\"The sentiment trend is Neutral.\")"
      ],
      "metadata": {
        "colab": {
          "base_uri": "https://localhost:8080/"
        },
        "id": "8ArHSCqOL00h",
        "outputId": "feb5ea50-38f1-4bc0-e4e6-cb39cb79335b"
      },
      "execution_count": 5,
      "outputs": [
        {
          "output_type": "stream",
          "name": "stdout",
          "text": [
            "Number of Positive posts: 76492\n",
            "Number of Negative posts: 50776\n",
            "Overall sentiment trend is Positive.\n"
          ]
        }
      ]
    }
  ]
}